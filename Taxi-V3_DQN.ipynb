{
 "cells": [
  {
   "cell_type": "code",
   "execution_count": 1,
   "metadata": {},
   "outputs": [],
   "source": [
    "import numpy as np\n",
    "import random\n",
    "from IPython.display import clear_output\n",
    "from collections import deque\n",
    "import progressbar\n",
    "import gym\n",
    "from tensorflow.keras import Model, Sequential\n",
    "from tensorflow.keras.layers import Dense, Embedding, Reshape\n",
    "from tensorflow.keras.optimizers import Adam"
   ]
  },
  {
   "cell_type": "code",
   "execution_count": 11,
   "metadata": {},
   "outputs": [],
   "source": [
    "env =gym.make(\"Taxi-v3\").env"
   ]
  },
  {
   "cell_type": "code",
   "execution_count": 13,
   "metadata": {},
   "outputs": [
    {
     "name": "stdout",
     "output_type": "stream",
     "text": [
      "Number of state: 500\n",
      "Number of state: 6\n"
     ]
    }
   ],
   "source": [
    "print('Number of state: {}'.format(env.observation_space.n))\n",
    "print('Number of state: {}'.format(env.action_space.n))"
   ]
  },
  {
   "cell_type": "code",
   "execution_count": 26,
   "metadata": {},
   "outputs": [],
   "source": [
    "class Agent:\n",
    "    def __init__(self, env, optimizer):\n",
    "        \n",
    "        self._state_size = env.observation_space.n\n",
    "        self._action_size = env.action_space.n\n",
    "        self._optimizer = optimizer\n",
    "\n",
    "        self.expirience_reply = deque(maxlen=2000)\n",
    "        \n",
    "        self.gamma = 0.6\n",
    "        self.epsilon = 0.1\n",
    "\n",
    "        self.q_network = self.build_compile_model()\n",
    "        self.target_network = self.build_compile_model()\n",
    "        self.alighn_target_model\n",
    "\n",
    "\n",
    "    def store(self, state, action, reward, next_state, terminated):\n",
    "        self.expirience_reply.append(state, action, reward, next_state, terminated)\n",
    "    \n",
    "    def build_compile_model(self):\n",
    "        model = Sequential()\n",
    "        model.add(Embedding(self._state_size, 10, input_length=1))\n",
    "        model.add(Reshape((10,)))\n",
    "        model.add(Dense(50, activation='relu'))\n",
    "        model.add(Dense(50, activation='relu'))\n",
    "        model.add(Dense(self._action_size, activation='linear'))\n",
    "\n",
    "        model.compile(loss='mse', optimizer=self._optimizer)\n",
    "        return model    \n",
    "    \n",
    "    def alighn_target_model(self):\n",
    "        self.target_network.set_weights(self.q_network.get_weights())\n",
    "    \n",
    "    def act(self, state):\n",
    "\n",
    "        if np.random.rand () <= self.epsilon:\n",
    "            return env.action_space.sample()\n",
    "        q_vales = self.q_network.predict(state)\n",
    "        return np.argmax(q_vales[0])            \n",
    "    \n",
    "    def retrain(self, batch_size):\n",
    "        miniBatch = random.sample(self.expirience_reply, batch_size)\n",
    "\n",
    "        for state, action, reward, next_state, terminated in miniBatch:\n",
    "            \n",
    "            target = self.q_network.predict(state)\n",
    "\n",
    "            if terminated:\n",
    "                target[0][action] = reward\n",
    "            else:\n",
    "                t = self.target_network.predict(next_state)\n",
    "                target[0][action] = reward + self.gamma * np.amax(t)\n",
    "            \n",
    "            self.q_network.fit(state, target, epochs=1, verbose=1)\n",
    " "
   ]
  },
  {
   "cell_type": "code",
   "execution_count": 27,
   "metadata": {},
   "outputs": [
    {
     "name": "stdout",
     "output_type": "stream",
     "text": [
      "Model: \"sequential_3\"\n",
      "_________________________________________________________________\n",
      " Layer (type)                Output Shape              Param #   \n",
      "=================================================================\n",
      " embedding_2 (Embedding)     (None, 1, 10)             5000      \n",
      "                                                                 \n",
      " reshape_2 (Reshape)         (None, 10)                0         \n",
      "                                                                 \n",
      " dense_6 (Dense)             (None, 50)                550       \n",
      "                                                                 \n",
      " dense_7 (Dense)             (None, 50)                2550      \n",
      "                                                                 \n",
      " dense_8 (Dense)             (None, 6)                 306       \n",
      "                                                                 \n",
      "=================================================================\n",
      "Total params: 8,406\n",
      "Trainable params: 8,406\n",
      "Non-trainable params: 0\n",
      "_________________________________________________________________\n"
     ]
    }
   ],
   "source": [
    "optimizer = Adam(learning_rate=0.01)\n",
    "agent= Agent(env, optimizer) \n",
    "batch_size = 32\n",
    "number_of_episode =100\n",
    "timeSteps = 1000\n",
    "agent.q_network.summary()"
   ]
  },
  {
   "cell_type": "code",
   "execution_count": 30,
   "metadata": {},
   "outputs": [
    {
     "name": "stderr",
     "output_type": "stream",
     "text": [
      "[                                                                        ] 100%\r"
     ]
    }
   ],
   "source": [
    "for e in range(number_of_episode):\n",
    "\n",
    "    state = env.reset()[0]\n",
    "    state = np.reshape(state, [1,1])\n",
    "\n",
    "    reward = 0\n",
    "    terminated = False\n",
    "\n",
    "    bar = progressbar.ProgressBar(maxval=timeSteps/10, widgets= [progressbar.Bar('=', '[', ']'), ' ', progressbar.Percentage()])\n",
    "    bar.start()\n",
    "\n",
    "    for timeSteps in range(timeSteps):\n",
    "        action = agent.act(state)\n",
    "\n",
    "        next_state, reward, terminated = env.step(action)\n",
    "        next_state = np.reshape(next_state, [1,1])\n",
    "        agent.store(state, action, reward, next_state, terminated)\n",
    "\n",
    "        state = next_state\n",
    "\n",
    "        if terminated:\n",
    "            agent.alighn_target_model()\n",
    "            break\n",
    "        if len(agent.expirience_reply) > batch_size:\n",
    "            agent.retrain(batch_size)\n",
    "\n",
    "        if timeSteps%10 ==0:\n",
    "            bar.update(timeSteps/10+1)\n",
    "        \n",
    "        bar.finish()\n",
    "        if (e+1) % 10 ==0:\n",
    "            print(\"************************\")\n",
    "            print(\"Episode: {}\".format(e+1) )\n",
    "            env.render()\n",
    "            print(\"************************\")\n"
   ]
  },
  {
   "cell_type": "code",
   "execution_count": null,
   "metadata": {},
   "outputs": [],
   "source": []
  }
 ],
 "metadata": {
  "kernelspec": {
   "display_name": "DL",
   "language": "python",
   "name": "python3"
  },
  "language_info": {
   "codemirror_mode": {
    "name": "ipython",
    "version": 3
   },
   "file_extension": ".py",
   "mimetype": "text/x-python",
   "name": "python",
   "nbconvert_exporter": "python",
   "pygments_lexer": "ipython3",
   "version": "3.10.12"
  },
  "orig_nbformat": 4
 },
 "nbformat": 4,
 "nbformat_minor": 2
}
