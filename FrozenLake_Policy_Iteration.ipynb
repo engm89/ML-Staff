{
 "cells": [
  {
   "cell_type": "code",
   "execution_count": 1,
   "id": "initial_id",
   "metadata": {
    "collapsed": true,
    "ExecuteTime": {
     "end_time": "2023-08-28T10:18:01.281963800Z",
     "start_time": "2023-08-28T10:18:00.975303700Z"
    }
   },
   "outputs": [],
   "source": [
    "import gym\n",
    "import matplotlib.pyplot as plt\n",
    "import seaborn as sns\n",
    "import numpy as np"
   ]
  },
  {
   "cell_type": "code",
   "execution_count": 9,
   "outputs": [],
   "source": [
    "def evaluationPolicy(env, valueFunctinVector, policy, discountRate, max_Iterations, converagenceTolerance):\n",
    "    converageTrack = []\n",
    "    valueFunctionVector = np.zeros(env.observation_space.n)\n",
    "    for iteratin in range(max_Iterations):\n",
    "        converageTrack.append(np.linalg.norm(valueFunctinVector, 3))\n",
    "        valueFunctinVectorNextIteratin = np.zeros(env.observation_space.n)\n",
    "        for state in env.P:\n",
    "            out_sum=0\n",
    "            for action in env.P[state]:\n",
    "                in_sum=0\n",
    "                for prob, next_state, reward, isTerminalState in env.P[state][action]:\n",
    "                    in_sum = in_sum +prob*(reward+discountRate*valueFunctionVector[next_state])\n",
    "                out_sum = out_sum*policy[state,action]*in_sum\n",
    "            valueFunctinVectorNextIteratin[state] = out_sum\n",
    "        if (np.max(np.abs(valueFunctinVectorNextIteratin-valueFunctinVector)) < converagenceTolerance):\n",
    "            valueFunctinVector = valueFunctinVectorNextIteratin\n",
    "            print(\"Iteration policy evaluation algoritm converged\")\n",
    "            break\n",
    "        valueFunctionVector=valueFunctinVectorNextIteratin\n",
    "    return valueFunctionVector                    "
   ],
   "metadata": {
    "collapsed": false,
    "ExecuteTime": {
     "end_time": "2023-08-28T10:42:33.478962900Z",
     "start_time": "2023-08-28T10:42:33.473134600Z"
    }
   },
   "id": "38644e67a06badc4"
  },
  {
   "cell_type": "code",
   "execution_count": 18,
   "outputs": [],
   "source": [
    "def improvePolicy(env, valueFunctionVector, number_Actions, number_States, discountRate):\n",
    "    qValueMatrix = np.zeros((number_States, number_Actions))\n",
    "    improvePolicy = np.zeros((number_States, number_Actions))\n",
    "    \n",
    "    for state in range(number_States):\n",
    "        for action in range(number_Actions):\n",
    "            for prob, next_state, reward, isTerminalState in env.P[state][action]:\n",
    "                qValueMatrix[state,action]= qValueMatrix[state,action]+prob*(reward+discountRate*valueFunctionVector[next_state])\n",
    "        bestAction=np.where(qValueMatrix[state,:]==np.max(qValueMatrix[state,:]))\n",
    "        improvePolicy[state,action]=1/np.size(bestAction)\n",
    "    return improvePolicy,qValueMatrix\n",
    "                "
   ],
   "metadata": {
    "collapsed": false,
    "ExecuteTime": {
     "end_time": "2023-08-28T10:48:20.644600400Z",
     "start_time": "2023-08-28T10:48:20.637257400Z"
    }
   },
   "id": "1ce793d8f4916450"
  },
  {
   "cell_type": "code",
   "execution_count": 21,
   "outputs": [
    {
     "name": "stdout",
     "output_type": "stream",
     "text": [
      "Iteration - 0 - of policy iteration algorithm\n",
      "Iteration policy evaluation algoritm converged\n",
      "Iteration - 1 - of policy iteration algorithm\n",
      "Iteration policy evaluation algoritm converged\n",
      "Policy iteration algorithm converged!\n"
     ]
    }
   ],
   "source": [
    "env=gym.make('FrozenLake-v1', desc=None, map_name=\"4x4\", is_slippery=False,render_mode=\"human\")\n",
    "env.reset()\n",
    "env.render()\n",
    "discountRate=0.9\n",
    "stateNumber=16\n",
    "actionNumber=4\n",
    "maxNumberOfIterationsOfPolicyIteration=1000\n",
    "initialPolicy=(1/actionNumber)*np.ones((stateNumber,actionNumber))\n",
    "valueFunctionVectorInitial=np.zeros(env.observation_space.n)\n",
    "\n",
    "maxNumberOfIterationsOfIterativePolicyEvaluation=1000\n",
    "# convergence tolerance \n",
    "convergenceToleranceIterativePolicyEvaluation=10**(-6)\n",
    "###########################################################################\n",
    "###########################################################################\n",
    "\n",
    "for iteration in range(maxNumberOfIterationsOfPolicyIteration):\n",
    "    print(\"Iteration - {} - of policy iteration algorithm\".format(iteration))\n",
    "    if (iteration == 0):\n",
    "        currentPolicy=initialPolicy\n",
    "    valueFunctionVectorComputed =evaluationPolicy(env,valueFunctionVectorInitial,currentPolicy,discountRate,maxNumberOfIterationsOfIterativePolicyEvaluation,convergenceToleranceIterativePolicyEvaluation)\n",
    "    improvedPolicy,qvaluesMatrix=improvePolicy(env,valueFunctionVectorComputed,actionNumber,stateNumber,discountRate)\n",
    "    # if two policies are equal up to a certain \"small\" tolerance\n",
    "    # then break the loop - our algorithm converged\n",
    "    if np.allclose(currentPolicy,improvedPolicy):\n",
    "        currentPolicy=improvedPolicy\n",
    "        print(\"Policy iteration algorithm converged!\")\n",
    "        break\n",
    "    currentPolicy=improvedPolicy"
   ],
   "metadata": {
    "collapsed": false,
    "ExecuteTime": {
     "end_time": "2023-08-28T10:49:06.044683Z",
     "start_time": "2023-08-28T10:49:05.527571500Z"
    }
   },
   "id": "551213f45b3ddb11"
  },
  {
   "cell_type": "code",
   "execution_count": 22,
   "outputs": [
    {
     "data": {
      "text/plain": "array([[0.  , 0.  , 0.  , 0.25],\n       [0.  , 0.  , 0.  , 0.25],\n       [0.  , 0.  , 0.  , 0.25],\n       [0.  , 0.  , 0.  , 0.25],\n       [0.  , 0.  , 0.  , 0.25],\n       [0.  , 0.  , 0.  , 0.25],\n       [0.  , 0.  , 0.  , 0.25],\n       [0.  , 0.  , 0.  , 0.25],\n       [0.  , 0.  , 0.  , 0.25],\n       [0.  , 0.  , 0.  , 0.25],\n       [0.  , 0.  , 0.  , 0.25],\n       [0.  , 0.  , 0.  , 0.25],\n       [0.  , 0.  , 0.  , 0.25],\n       [0.  , 0.  , 0.  , 0.25],\n       [0.  , 0.  , 0.  , 1.  ],\n       [0.  , 0.  , 0.  , 0.25]])"
     },
     "execution_count": 22,
     "metadata": {},
     "output_type": "execute_result"
    }
   ],
   "source": [
    "currentPolicy"
   ],
   "metadata": {
    "collapsed": false,
    "ExecuteTime": {
     "end_time": "2023-08-28T10:49:06.649806Z",
     "start_time": "2023-08-28T10:49:06.642289500Z"
    }
   },
   "id": "e0e5970d94f992a1"
  },
  {
   "cell_type": "code",
   "execution_count": null,
   "outputs": [],
   "source": [],
   "metadata": {
    "collapsed": false
   },
   "id": "e79bbda4ff3d2635"
  }
 ],
 "metadata": {
  "kernelspec": {
   "display_name": "Python 3",
   "language": "python",
   "name": "python3"
  },
  "language_info": {
   "codemirror_mode": {
    "name": "ipython",
    "version": 2
   },
   "file_extension": ".py",
   "mimetype": "text/x-python",
   "name": "python",
   "nbconvert_exporter": "python",
   "pygments_lexer": "ipython2",
   "version": "2.7.6"
  }
 },
 "nbformat": 4,
 "nbformat_minor": 5
}
