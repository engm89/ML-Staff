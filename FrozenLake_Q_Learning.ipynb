{
 "cells": [
  {
   "cell_type": "code",
   "execution_count": 73,
   "id": "initial_id",
   "metadata": {
    "collapsed": true,
    "ExecuteTime": {
     "end_time": "2023-08-27T13:31:21.850461500Z",
     "start_time": "2023-08-27T13:31:21.830632100Z"
    }
   },
   "outputs": [],
   "source": [
    "import numpy as np\n",
    "import gym\n",
    "import random\n",
    "from tqdm import tqdm\n",
    "from pyvirtualdisplay import Display\n",
    "import imageio"
   ]
  },
  {
   "cell_type": "code",
   "execution_count": 74,
   "outputs": [],
   "source": [
    "env = gym.make(\"FrozenLake-v1\", map_name=\"4x4\", is_slippery=False)"
   ],
   "metadata": {
    "collapsed": false,
    "ExecuteTime": {
     "end_time": "2023-08-27T13:31:21.852707100Z",
     "start_time": "2023-08-27T13:31:21.834812600Z"
    }
   },
   "id": "8c0fec68a6b7f6e"
  },
  {
   "cell_type": "code",
   "execution_count": 75,
   "outputs": [
    {
     "name": "stdout",
     "output_type": "stream",
     "text": [
      "Obervation Space:  Discrete(16)\n",
      "Sample observation  9\n"
     ]
    }
   ],
   "source": [
    "print(\"Obervation Space: \", env.observation_space)\n",
    "print(\"Sample observation \", env.observation_space.sample())"
   ],
   "metadata": {
    "collapsed": false,
    "ExecuteTime": {
     "end_time": "2023-08-27T13:31:21.881392600Z",
     "start_time": "2023-08-27T13:31:21.848972900Z"
    }
   },
   "id": "5300a22a0d58a1b7"
  },
  {
   "cell_type": "code",
   "execution_count": 76,
   "outputs": [
    {
     "name": "stdout",
     "output_type": "stream",
     "text": [
      "Action Space:  4\n",
      "Action Space Sample:  2\n"
     ]
    }
   ],
   "source": [
    "print(\"Action Space: \", env.action_space.n)\n",
    "print(\"Action Space Sample: \", env.action_space.sample())"
   ],
   "metadata": {
    "collapsed": false,
    "ExecuteTime": {
     "end_time": "2023-08-27T13:31:21.881392600Z",
     "start_time": "2023-08-27T13:31:21.854131600Z"
    }
   },
   "id": "383ecfcf16bb259d"
  },
  {
   "cell_type": "code",
   "execution_count": 77,
   "outputs": [],
   "source": [
    "state_space = env.observation_space.n\n",
    "action_space = env.action_space.n"
   ],
   "metadata": {
    "collapsed": false,
    "ExecuteTime": {
     "end_time": "2023-08-27T13:31:21.882639500Z",
     "start_time": "2023-08-27T13:31:21.861193600Z"
    }
   },
   "id": "dc0024cfa4f3a9d6"
  },
  {
   "cell_type": "code",
   "execution_count": 78,
   "outputs": [
    {
     "name": "stdout",
     "output_type": "stream",
     "text": [
      "[[0. 0. 0. 0.]\n",
      " [0. 0. 0. 0.]\n",
      " [0. 0. 0. 0.]\n",
      " [0. 0. 0. 0.]\n",
      " [0. 0. 0. 0.]\n",
      " [0. 0. 0. 0.]\n",
      " [0. 0. 0. 0.]\n",
      " [0. 0. 0. 0.]\n",
      " [0. 0. 0. 0.]\n",
      " [0. 0. 0. 0.]\n",
      " [0. 0. 0. 0.]\n",
      " [0. 0. 0. 0.]\n",
      " [0. 0. 0. 0.]\n",
      " [0. 0. 0. 0.]\n",
      " [0. 0. 0. 0.]\n",
      " [0. 0. 0. 0.]]\n"
     ]
    }
   ],
   "source": [
    "def init_Q_Table(state, action):\n",
    "    Q_Table = np.zeros((state, action))\n",
    "    return Q_Table\n",
    "\n",
    "\n",
    "QTable = init_Q_Table(state_space, action_space)"
   ],
   "metadata": {
    "collapsed": false,
    "ExecuteTime": {
     "end_time": "2023-08-27T13:31:21.882639500Z",
     "start_time": "2023-08-27T13:31:21.867317100Z"
    }
   },
   "id": "c3d8362dc818654a"
  },
  {
   "cell_type": "markdown",
   "source": [
    "### Epsilon Greedy policy used for choose action\n",
    "### where, the greedy policy used to update the policy"
   ],
   "metadata": {
    "collapsed": false
   },
   "id": "ffd592c496200aef"
  },
  {
   "cell_type": "code",
   "execution_count": 79,
   "outputs": [],
   "source": [
    "def epsilon_greedy_policy(QTable, state, epsilon):\n",
    "    random_int = random.uniform(0, 1)\n",
    "    if random_int > epsilon:\n",
    "        action = np.argmax(QTable[state])\n",
    "    else:\n",
    "        action = env.action_space.n\n",
    "    return action"
   ],
   "metadata": {
    "collapsed": false,
    "ExecuteTime": {
     "end_time": "2023-08-27T13:31:21.882639500Z",
     "start_time": "2023-08-27T13:31:21.873335300Z"
    }
   },
   "id": "41fc9c49cea64742"
  },
  {
   "cell_type": "code",
   "execution_count": 80,
   "outputs": [
    {
     "data": {
      "text/plain": "  0%|          | 0/10000 [00:00<?, ?it/s]",
      "application/vnd.jupyter.widget-view+json": {
       "version_major": 2,
       "version_minor": 0,
       "model_id": "027e67291c994779ad7cb27bc9be2f1a"
      }
     },
     "metadata": {},
     "output_type": "display_data"
    },
    {
     "ename": "IndexError",
     "evalue": "only integers, slices (`:`), ellipsis (`...`), numpy.newaxis (`None`) and integer or boolean arrays are valid indices",
     "output_type": "error",
     "traceback": [
      "\u001B[1;31m---------------------------------------------------------------------------\u001B[0m",
      "\u001B[1;31mIndexError\u001B[0m                                Traceback (most recent call last)",
      "Cell \u001B[1;32mIn[80], line 16\u001B[0m\n\u001B[0;32m     13\u001B[0m next_state, reward, terminated, truncated, info \u001B[38;5;241m=\u001B[39m env\u001B[38;5;241m.\u001B[39mstep(action)\n\u001B[0;32m     14\u001B[0m done \u001B[38;5;241m=\u001B[39m terminated \u001B[38;5;129;01mor\u001B[39;00m truncated\n\u001B[1;32m---> 16\u001B[0m QTable[current_state][action] \u001B[38;5;241m=\u001B[39m (\u001B[38;5;241m1\u001B[39m\u001B[38;5;241m-\u001B[39mlr)\u001B[38;5;241m*\u001B[39m\u001B[43mQTable\u001B[49m\u001B[43m[\u001B[49m\u001B[43mcurrent_state\u001B[49m\u001B[43m]\u001B[49m[action] \u001B[38;5;241m+\u001B[39m lr\u001B[38;5;241m*\u001B[39m(reward\u001B[38;5;241m+\u001B[39mgamma\u001B[38;5;241m*\u001B[39m\u001B[38;5;28mmax\u001B[39m(QTable[next_state][action] ))\n\u001B[0;32m     18\u001B[0m total_rewards_episode \u001B[38;5;241m=\u001B[39m total_rewards_episode\u001B[38;5;241m+\u001B[39mreward\n\u001B[0;32m     20\u001B[0m \u001B[38;5;28;01mif\u001B[39;00m done:\n",
      "\u001B[1;31mIndexError\u001B[0m: only integers, slices (`:`), ellipsis (`...`), numpy.newaxis (`None`) and integer or boolean arrays are valid indices"
     ]
    }
   ],
   "source": [
    "def greedy_policy(Qtable, state):\n",
    "    action = np.argmax(Qtable[state])\n",
    "    return action"
   ],
   "metadata": {
    "collapsed": false,
    "ExecuteTime": {
     "end_time": "2023-08-27T13:31:21.970923500Z",
     "start_time": "2023-08-27T13:31:21.881392600Z"
    }
   },
   "id": "8388c6f7980aecce"
  },
  {
   "cell_type": "code",
   "execution_count": null,
   "outputs": [],
   "source": [
    "n_episode = 1000\n",
    "learning_rate = 0.7\n",
    "\n",
    "n_eval_episode = 100\n",
    "\n",
    "max_steps = 99\n",
    "gamma = 0.95\n",
    "eval_seed = []\n",
    "\n",
    "# Exploration parameters\n",
    "max_epsilon = 1.0\n",
    "min_epsilon = 0.05\n",
    "decay_rate = 0.0005\n",
    "\n",
    "\n",
    "def training(n_episode, min_epsilon, max_epsilon, decay_rate, env, max_steps, Qtable):\n",
    "    for episode in trange(n_episode):\n",
    "        epsilon = min_epsilon + (max_epsilon - min_epsilon) * np.exp(-decay_rate * episode)\n",
    "        state = env.reset()\n",
    "        step = 0\n",
    "        done=False\n",
    "        \n",
    "        for step in range(max_steps):\n",
    "            action = epsilon_greedy_policy(QTable, state, epsilon)\n",
    "            \n",
    "            new_state, reward, done, info = env.step(action)\n",
    "            \n",
    "            Qtable[state][action]= Qtable[state][action] + learning_rate*(reward+gamma*np.argmax(Qtable[state])- Qtable[state][action])\n",
    "        \n",
    "        if done:\n",
    "            break\n",
    "        \n",
    "            state = new_state\n",
    "        \n",
    "        return  Qtable\n",
    "\n",
    "\n"
   ],
   "metadata": {
    "collapsed": false,
    "ExecuteTime": {
     "start_time": "2023-08-27T13:31:21.917133600Z"
    }
   },
   "id": "361de04474421a42"
  },
  {
   "cell_type": "code",
   "execution_count": null,
   "outputs": [],
   "source": [
    "Qtable_frozenlake = training(n_episode, min_epsilon, max_epsilon, decay_rate, env, max_steps, QTable)"
   ],
   "metadata": {
    "collapsed": false,
    "ExecuteTime": {
     "start_time": "2023-08-27T13:31:21.920032900Z"
    }
   },
   "id": "c3e1194b23393f77"
  },
  {
   "cell_type": "code",
   "execution_count": 34,
   "outputs": [],
   "source": [],
   "metadata": {
    "collapsed": false,
    "ExecuteTime": {
     "end_time": "2023-08-27T12:41:04.270414700Z",
     "start_time": "2023-08-27T12:41:04.267386Z"
    }
   },
   "id": "f6c388f1a496d351"
  },
  {
   "cell_type": "code",
   "execution_count": null,
   "outputs": [],
   "source": [],
   "metadata": {
    "collapsed": false,
    "ExecuteTime": {
     "start_time": "2023-08-27T12:40:46.524716200Z"
    }
   },
   "id": "f48e7999713e52d5"
  }
 ],
 "metadata": {
  "kernelspec": {
   "display_name": "Python 3",
   "language": "python",
   "name": "python3"
  },
  "language_info": {
   "codemirror_mode": {
    "name": "ipython",
    "version": 2
   },
   "file_extension": ".py",
   "mimetype": "text/x-python",
   "name": "python",
   "nbconvert_exporter": "python",
   "pygments_lexer": "ipython2",
   "version": "2.7.6"
  }
 },
 "nbformat": 4,
 "nbformat_minor": 5
}
