{
 "cells": [
  {
   "cell_type": "code",
   "execution_count": 1,
   "id": "initial_id",
   "metadata": {
    "collapsed": true,
    "ExecuteTime": {
     "end_time": "2023-08-27T19:59:15.277031900Z",
     "start_time": "2023-08-27T19:59:14.915851400Z"
    }
   },
   "outputs": [],
   "source": [
    "import gym"
   ]
  },
  {
   "cell_type": "code",
   "execution_count": 3,
   "outputs": [],
   "source": [
    "env = gym.make(id='FrozenLake-v1', render_mode='human')\n",
    "env.reset()\n",
    "env.render()"
   ],
   "metadata": {
    "collapsed": false,
    "ExecuteTime": {
     "end_time": "2023-08-27T20:00:26.869724500Z",
     "start_time": "2023-08-27T20:00:25.770960900Z"
    }
   },
   "id": "599ee2442383aa82"
  },
  {
   "cell_type": "code",
   "execution_count": 4,
   "outputs": [
    {
     "data": {
      "text/plain": "Discrete(16)"
     },
     "execution_count": 4,
     "metadata": {},
     "output_type": "execute_result"
    }
   ],
   "source": [
    "env.observation_space"
   ],
   "metadata": {
    "collapsed": false,
    "ExecuteTime": {
     "end_time": "2023-08-27T20:00:46.058807200Z",
     "start_time": "2023-08-27T20:00:46.038639Z"
    }
   },
   "id": "d2d4a310595f8b8"
  },
  {
   "cell_type": "code",
   "execution_count": 5,
   "outputs": [
    {
     "data": {
      "text/plain": "Discrete(4)"
     },
     "execution_count": 5,
     "metadata": {},
     "output_type": "execute_result"
    }
   ],
   "source": [
    "env.action_space"
   ],
   "metadata": {
    "collapsed": false,
    "ExecuteTime": {
     "end_time": "2023-08-27T20:00:57.263824300Z",
     "start_time": "2023-08-27T20:00:57.252305600Z"
    }
   },
   "id": "a49822284364c93b"
  },
  {
   "cell_type": "code",
   "execution_count": 9,
   "outputs": [],
   "source": [
    "randomAction = env.action_space.sample()\n",
    "returnValue = env.step(randomAction)\n",
    "\n",
    "env.render()"
   ],
   "metadata": {
    "collapsed": false,
    "ExecuteTime": {
     "end_time": "2023-08-27T20:02:04.002252500Z",
     "start_time": "2023-08-27T20:02:03.749326400Z"
    }
   },
   "id": "459f936eef35dfa7"
  },
  {
   "cell_type": "code",
   "execution_count": 10,
   "outputs": [
    {
     "data": {
      "text/plain": "(4, 0.0, False, False, {'prob': 0.3333333333333333})"
     },
     "execution_count": 10,
     "metadata": {},
     "output_type": "execute_result"
    }
   ],
   "source": [
    "returnValue"
   ],
   "metadata": {
    "collapsed": false,
    "ExecuteTime": {
     "end_time": "2023-08-27T20:02:45.108939700Z",
     "start_time": "2023-08-27T20:02:45.098327900Z"
    }
   },
   "id": "ea8500f41f427d8c"
  },
  {
   "cell_type": "code",
   "execution_count": 15,
   "outputs": [
    {
     "data": {
      "text/plain": "(0, {'prob': 1})"
     },
     "execution_count": 15,
     "metadata": {},
     "output_type": "execute_result"
    }
   ],
   "source": [
    "env.reset()"
   ],
   "metadata": {
    "collapsed": false,
    "ExecuteTime": {
     "end_time": "2023-08-27T20:05:27.179762400Z",
     "start_time": "2023-08-27T20:05:27.172489200Z"
    }
   },
   "id": "1c2c989039443675"
  },
  {
   "cell_type": "code",
   "execution_count": 16,
   "outputs": [
    {
     "data": {
      "text/plain": "(4, 0.0, False, False, {'prob': 0.3333333333333333})"
     },
     "execution_count": 16,
     "metadata": {},
     "output_type": "execute_result"
    }
   ],
   "source": [
    "returnValue = env.step(1)\n",
    "returnValue"
   ],
   "metadata": {
    "collapsed": false,
    "ExecuteTime": {
     "end_time": "2023-08-27T20:05:28.189273400Z",
     "start_time": "2023-08-27T20:05:28.184984500Z"
    }
   },
   "id": "f3382251873d8fe"
  },
  {
   "cell_type": "code",
   "execution_count": 20,
   "outputs": [
    {
     "data": {
      "text/plain": "[(0.3333333333333333, 5, 0.0, True),\n (0.3333333333333333, 10, 0.0, False),\n (0.3333333333333333, 7, 0.0, True)]"
     },
     "execution_count": 20,
     "metadata": {},
     "output_type": "execute_result"
    }
   ],
   "source": [
    "env.P[6][1]"
   ],
   "metadata": {
    "collapsed": false,
    "ExecuteTime": {
     "end_time": "2023-08-27T20:09:30.785150100Z",
     "start_time": "2023-08-27T20:09:30.777834300Z"
    }
   },
   "id": "bbf86323e415424b"
  },
  {
   "cell_type": "code",
   "execution_count": 21,
   "outputs": [],
   "source": [
    "env.close()"
   ],
   "metadata": {
    "collapsed": false,
    "ExecuteTime": {
     "end_time": "2023-08-27T20:41:27.129387800Z",
     "start_time": "2023-08-27T20:41:27.081788200Z"
    }
   },
   "id": "12470f8e7a299587"
  },
  {
   "cell_type": "code",
   "execution_count": null,
   "outputs": [],
   "source": [],
   "metadata": {
    "collapsed": false
   },
   "id": "ad6507058903cf4b"
  }
 ],
 "metadata": {
  "kernelspec": {
   "display_name": "Python 3",
   "language": "python",
   "name": "python3"
  },
  "language_info": {
   "codemirror_mode": {
    "name": "ipython",
    "version": 2
   },
   "file_extension": ".py",
   "mimetype": "text/x-python",
   "name": "python",
   "nbconvert_exporter": "python",
   "pygments_lexer": "ipython2",
   "version": "2.7.6"
  }
 },
 "nbformat": 4,
 "nbformat_minor": 5
}
